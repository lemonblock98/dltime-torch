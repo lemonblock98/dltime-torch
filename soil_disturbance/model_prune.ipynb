{
 "cells": [
  {
   "cell_type": "markdown",
   "metadata": {},
   "source": [
    "模型剪枝"
   ]
  },
  {
   "cell_type": "code",
   "execution_count": 1,
   "metadata": {},
   "outputs": [],
   "source": [
    "import os\n",
    "import sys\n",
    "sys.path.append(os.path.abspath('..'))\n",
    "sys.path.append(os.path.abspath('.'))"
   ]
  },
  {
   "cell_type": "code",
   "execution_count": 5,
   "metadata": {},
   "outputs": [],
   "source": [
    "import torch\n",
    "from dltime.models.FCN import FCN\n",
    "from torch import nn\n",
    "from thop import profile\n",
    "import torch.nn.utils.prune as prune\n",
    "import torch.nn.functional as F\n",
    "from dltime.models.inception_atten import TSInceptionSelfAttnEncoderClassifier"
   ]
  },
  {
   "cell_type": "code",
   "execution_count": 3,
   "metadata": {},
   "outputs": [],
   "source": [
    "ln = 2"
   ]
  },
  {
   "cell_type": "markdown",
   "metadata": {},
   "source": [
    "Inception"
   ]
  },
  {
   "cell_type": "code",
   "execution_count": 6,
   "metadata": {},
   "outputs": [],
   "source": [
    "model = TSInceptionSelfAttnEncoderClassifier(feat_dim=5, max_len=64, d_model=256, num_layers=2, num_classes=3, num_heads=4)"
   ]
  },
  {
   "cell_type": "code",
   "execution_count": 7,
   "metadata": {},
   "outputs": [
    {
     "data": {
      "text/plain": [
       "tensor([[-0.2571, -0.2522, -0.0929]], grad_fn=<AddmmBackward>)"
      ]
     },
     "execution_count": 7,
     "metadata": {},
     "output_type": "execute_result"
    }
   ],
   "source": [
    "x = torch.randn(1, 5, 64)\n",
    "model(x)"
   ]
  },
  {
   "cell_type": "code",
   "execution_count": 8,
   "metadata": {},
   "outputs": [
    {
     "name": "stdout",
     "output_type": "stream",
     "text": [
      "[INFO] Register count_convNd() for <class 'torch.nn.modules.conv.Conv1d'>.\n",
      "[INFO] Register zero_ops() for <class 'torch.nn.modules.pooling.MaxPool1d'>.\n",
      "[INFO] Register zero_ops() for <class 'torch.nn.modules.container.Sequential'>.\n",
      "[INFO] Register count_normalization() for <class 'torch.nn.modules.batchnorm.BatchNorm1d'>.\n",
      "[INFO] Register zero_ops() for <class 'torch.nn.modules.activation.ReLU'>.\n",
      "[INFO] Register zero_ops() for <class 'torch.nn.modules.dropout.Dropout'>.\n",
      "[INFO] Register count_adap_avgpool() for <class 'torch.nn.modules.pooling.AdaptiveAvgPool1d'>.\n",
      "[INFO] Register count_linear() for <class 'torch.nn.modules.linear.Linear'>.\n"
     ]
    },
    {
     "data": {
      "text/plain": [
       "(64848896.0, 1009155.0)"
      ]
     },
     "execution_count": 8,
     "metadata": {},
     "output_type": "execute_result"
    }
   ],
   "source": [
    "profile(model, inputs=(x,))"
   ]
  },
  {
   "cell_type": "markdown",
   "metadata": {},
   "source": [
    "FCN"
   ]
  },
  {
   "cell_type": "code",
   "execution_count": 22,
   "metadata": {},
   "outputs": [],
   "source": [
    "filters = [32, 64, 32]\n",
    "new_filters = [16, 32, 16]"
   ]
  },
  {
   "cell_type": "code",
   "execution_count": 23,
   "metadata": {},
   "outputs": [
    {
     "name": "stdout",
     "output_type": "stream",
     "text": [
      "convblock1.conv1d.conv1d.weight torch.Size([32, 5, 7])\n",
      "convblock1.conv1d.conv1d.bias torch.Size([32])\n",
      "convblock1.bn.weight torch.Size([32])\n",
      "convblock1.bn.bias torch.Size([32])\n",
      "convblock2.conv1d.conv1d.weight torch.Size([64, 32, 5])\n",
      "convblock2.conv1d.conv1d.bias torch.Size([64])\n",
      "convblock2.bn.weight torch.Size([64])\n",
      "convblock2.bn.bias torch.Size([64])\n",
      "convblock3.conv1d.conv1d.weight torch.Size([32, 64, 3])\n",
      "convblock3.conv1d.conv1d.bias torch.Size([32])\n",
      "convblock3.bn.weight torch.Size([32])\n",
      "convblock3.bn.bias torch.Size([32])\n",
      "fc.weight torch.Size([3, 32])\n",
      "fc.bias torch.Size([3])\n"
     ]
    }
   ],
   "source": [
    "model = FCN(c_in=5, c_out=3, layers=filters)\n",
    "model.load_state_dict(torch.load('./outputs/FCN_all_2022-09-29 00.40_32_64_32_prune.pth'))\n",
    "for name, param in model.named_parameters():\n",
    "    print(name, param.size())\n",
    "\n",
    "state_dict = model.state_dict()"
   ]
  },
  {
   "cell_type": "code",
   "execution_count": 24,
   "metadata": {},
   "outputs": [],
   "source": [
    "new_model = FCN(c_in=5, c_out=3, layers=new_filters)\n",
    "new_state_dict = new_model.state_dict()"
   ]
  },
  {
   "cell_type": "code",
   "execution_count": 38,
   "metadata": {},
   "outputs": [
    {
     "name": "stdout",
     "output_type": "stream",
     "text": [
      "[INFO] Register zero_ops() for <class 'torch.nn.modules.activation.ReLU'>.\n",
      "[INFO] Register count_convNd() for <class 'torch.nn.modules.conv.Conv1d'>.\n",
      "[INFO] Register count_normalization() for <class 'torch.nn.modules.batchnorm.BatchNorm1d'>.\n",
      "[INFO] Register count_adap_avgpool() for <class 'torch.nn.modules.pooling.AdaptiveAvgPool1d'>.\n",
      "[INFO] Register count_linear() for <class 'torch.nn.modules.linear.Linear'>.\n"
     ]
    },
    {
     "data": {
      "text/plain": [
       "(315456.0, 4899.0)"
      ]
     },
     "execution_count": 38,
     "metadata": {},
     "output_type": "execute_result"
    }
   ],
   "source": [
    "profile(new_model, inputs=(x,))"
   ]
  },
  {
   "cell_type": "code",
   "execution_count": 25,
   "metadata": {},
   "outputs": [
    {
     "data": {
      "text/plain": [
       "tensor([[0.3798, 0.2862, 0.3341]], grad_fn=<SoftmaxBackward>)"
      ]
     },
     "execution_count": 25,
     "metadata": {},
     "output_type": "execute_result"
    }
   ],
   "source": [
    "x = torch.randn(1, 5, 64)\n",
    "new_model(x)"
   ]
  },
  {
   "cell_type": "markdown",
   "metadata": {},
   "source": [
    "第一层卷积"
   ]
  },
  {
   "cell_type": "code",
   "execution_count": 26,
   "metadata": {},
   "outputs": [
    {
     "name": "stdout",
     "output_type": "stream",
     "text": [
      "weight torch.Size([32, 5, 7])\n",
      "bias torch.Size([32])\n"
     ]
    }
   ],
   "source": [
    "module = model.convblock1.conv1d.conv1d\n",
    "for name, param in module.named_parameters():\n",
    "    print(name, param.size())"
   ]
  },
  {
   "cell_type": "code",
   "execution_count": 27,
   "metadata": {},
   "outputs": [],
   "source": [
    "res0 = []\n",
    "if new_filters[0] != filters[0]:\n",
    "    rate = 1 - new_filters[0] / filters[0]\n",
    "    prune.ln_structured(module, name=\"weight\", amount=rate, n=ln, dim=0)\n",
    "    for i in range(module.weight.size(0)):\n",
    "        if torch.sum(module.weight[i]) != 0.0:\n",
    "            res0.append(i)\n",
    "else:\n",
    "    res0 = list(range(module.weight.size(0)))"
   ]
  },
  {
   "cell_type": "code",
   "execution_count": 28,
   "metadata": {},
   "outputs": [],
   "source": [
    "new_state_dict['convblock1.conv1d.conv1d.weight'] = module.weight[res0].detach()\n",
    "new_state_dict['convblock1.conv1d.conv1d.bias'] = module.bias[res0].detach()\n",
    "new_state_dict['convblock1.bn.weight'] = state_dict['convblock1.bn.weight'][res0].detach()\n",
    "new_state_dict['convblock1.bn.bias'] = state_dict['convblock1.bn.bias'][res0].detach()"
   ]
  },
  {
   "cell_type": "markdown",
   "metadata": {},
   "source": [
    "第二层卷积"
   ]
  },
  {
   "cell_type": "code",
   "execution_count": 29,
   "metadata": {},
   "outputs": [
    {
     "name": "stdout",
     "output_type": "stream",
     "text": [
      "weight torch.Size([64, 32, 5])\n",
      "bias torch.Size([64])\n"
     ]
    }
   ],
   "source": [
    "module = model.convblock2.conv1d.conv1d\n",
    "for name, param in module.named_parameters():\n",
    "    print(name, param.size())"
   ]
  },
  {
   "cell_type": "code",
   "execution_count": 30,
   "metadata": {},
   "outputs": [],
   "source": [
    "res1 = []\n",
    "if new_filters[1] != filters[1]:\n",
    "    rate = 1 - new_filters[1] / filters[1]\n",
    "    prune.ln_structured(module, name=\"weight\", amount=rate, n=ln, dim=0)\n",
    "    for i in range(module.weight.size(0)):\n",
    "        if torch.sum(module.weight[i]) != 0.0:\n",
    "            res1.append(i)\n",
    "else:\n",
    "    res1 = list(range(module.weight.size(0)))"
   ]
  },
  {
   "cell_type": "code",
   "execution_count": 31,
   "metadata": {},
   "outputs": [],
   "source": [
    "new_state_dict['convblock2.conv1d.conv1d.weight'] = module.weight[res1][:, res0].detach()\n",
    "new_state_dict['convblock2.conv1d.conv1d.bias'] = module.bias[res1].detach()\n",
    "new_state_dict['convblock2.bn.weight'] = state_dict['convblock2.bn.weight'][res1].detach()\n",
    "new_state_dict['convblock2.bn.bias'] = state_dict['convblock2.bn.bias'][res1].detach()"
   ]
  },
  {
   "cell_type": "markdown",
   "metadata": {},
   "source": [
    "第三层卷积"
   ]
  },
  {
   "cell_type": "code",
   "execution_count": 32,
   "metadata": {},
   "outputs": [
    {
     "name": "stdout",
     "output_type": "stream",
     "text": [
      "weight torch.Size([32, 64, 3])\n",
      "bias torch.Size([32])\n"
     ]
    }
   ],
   "source": [
    "module = model.convblock3.conv1d.conv1d\n",
    "for name, param in module.named_parameters():\n",
    "    print(name, param.size())"
   ]
  },
  {
   "cell_type": "code",
   "execution_count": 33,
   "metadata": {},
   "outputs": [],
   "source": [
    "res2 = []\n",
    "if new_filters[2] != filters[2]:\n",
    "    rate = 1 - new_filters[2] / filters[2]\n",
    "    prune.ln_structured(module, name=\"weight\", amount=rate, n=ln, dim=0)\n",
    "    for i in range(module.weight.size(0)):\n",
    "        if torch.sum(module.weight[i]) != 0.0:\n",
    "            res2.append(i)\n",
    "else:\n",
    "    res2 = list(range(module.weight.size(0)))"
   ]
  },
  {
   "cell_type": "code",
   "execution_count": 34,
   "metadata": {},
   "outputs": [],
   "source": [
    "new_state_dict['convblock3.conv1d.conv1d.weight'] = module.weight[res2][:, res1].detach()\n",
    "new_state_dict['convblock3.conv1d.conv1d.bias'] = module.bias[res2].detach()\n",
    "new_state_dict['convblock3.bn.weight'] = state_dict['convblock3.bn.weight'][res2].detach()\n",
    "new_state_dict['convblock3.bn.bias'] = state_dict['convblock3.bn.bias'][res2].detach()"
   ]
  },
  {
   "cell_type": "markdown",
   "metadata": {},
   "source": [
    "全连接"
   ]
  },
  {
   "cell_type": "code",
   "execution_count": 35,
   "metadata": {},
   "outputs": [],
   "source": [
    "new_state_dict['fc.weight'] = state_dict['fc.weight'][:, res2].detach()"
   ]
  },
  {
   "cell_type": "code",
   "execution_count": 36,
   "metadata": {},
   "outputs": [
    {
     "data": {
      "text/plain": [
       "tensor([ 0.0285, -0.0039,  0.0237,  0.0143, -0.0175, -0.0329, -0.0269, -0.0069,\n",
       "        -0.0303, -0.0196,  0.0258,  0.0339, -0.0101, -0.0033, -0.0314, -0.0082])"
      ]
     },
     "execution_count": 36,
     "metadata": {},
     "output_type": "execute_result"
    }
   ],
   "source": [
    "state_dict['convblock3.conv1d.conv1d.bias'][res2]"
   ]
  },
  {
   "cell_type": "code",
   "execution_count": 37,
   "metadata": {},
   "outputs": [],
   "source": [
    "torch.save(new_state_dict, 'outputs/FCN_prune_layer_16_32_16.pth')"
   ]
  },
  {
   "cell_type": "code",
   "execution_count": null,
   "metadata": {},
   "outputs": [],
   "source": []
  }
 ],
 "metadata": {
  "kernelspec": {
   "display_name": "Python 3.6.13 ('torch')",
   "language": "python",
   "name": "python3"
  },
  "language_info": {
   "codemirror_mode": {
    "name": "ipython",
    "version": 3
   },
   "file_extension": ".py",
   "mimetype": "text/x-python",
   "name": "python",
   "nbconvert_exporter": "python",
   "pygments_lexer": "ipython3",
   "version": "3.6.13"
  },
  "orig_nbformat": 4,
  "vscode": {
   "interpreter": {
    "hash": "c2cc5f3fd0677345b2da76744e7e4ae77c20d68485bc79ae6cfb88e0ece58c04"
   }
  }
 },
 "nbformat": 4,
 "nbformat_minor": 2
}
