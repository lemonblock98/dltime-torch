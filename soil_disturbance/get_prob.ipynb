{
 "cells": [
  {
   "cell_type": "code",
   "execution_count": 1,
   "metadata": {},
   "outputs": [],
   "source": [
    "import os\n",
    "import sys\n",
    "sys.path.append(os.path.abspath('..'))"
   ]
  },
  {
   "cell_type": "code",
   "execution_count": 2,
   "metadata": {},
   "outputs": [
    {
     "name": "stderr",
     "output_type": "stream",
     "text": [
      "/home/shizhaoshu/.conda/envs/torch111/lib/python3.7/site-packages/tqdm/auto.py:22: TqdmWarning: IProgress not found. Please update jupyter and ipywidgets. See https://ipywidgets.readthedocs.io/en/stable/user_install.html\n",
      "  from .autonotebook import tqdm as notebook_tqdm\n"
     ]
    }
   ],
   "source": [
    "import torch\n",
    "import torch.nn as nn\n",
    "import numpy as np\n",
    "import time\n",
    "import datetime\n",
    "import wandb\n",
    "import gc\n",
    "import pandas as pd\n",
    "from train_helper import train_fn, valid_fn\n",
    "from config import TrainConfig\n",
    "from utils import get_logger, get_scheduler, load_pkl, weight_init, save_pkl\n",
    "from dltime.data.ts_datasets import Soil_Dataset\n",
    "from dltime.models.inception_atten import TSInceptionSelfAttnEncoderClassifier\n",
    "from dltime.models.conv_atten import TSTransformerEncoderConvClassifier\n",
    "from transformers import AdamW\n",
    "from torch.utils.data import DataLoader\n",
    "from sklearn.metrics import accuracy_score, f1_score, classification_report, confusion_matrix\n",
    "from sklearn.utils import shuffle\n",
    "from data_process import handle_dataset_3dims"
   ]
  },
  {
   "cell_type": "code",
   "execution_count": 3,
   "metadata": {},
   "outputs": [],
   "source": [
    "CFG = TrainConfig()"
   ]
  },
  {
   "cell_type": "code",
   "execution_count": 4,
   "metadata": {},
   "outputs": [
    {
     "name": "stdout",
     "output_type": "stream",
     "text": [
      "Train data size: (4672, 48, 5) (4672,)\n"
     ]
    }
   ],
   "source": [
    "# data process\n",
    "data_for_train = ['zwy', 'zwy2', 'zwy3', 'zwy4']\n",
    "train_data = []\n",
    "for data_name in data_for_train:\n",
    "    train_data.extend(load_pkl(f'./pickle_data/{data_name}_train.pkl'))\n",
    "\n",
    "train_x, train_label = handle_dataset_3dims(train_data, mode=\"all\")\n",
    "train_x = np.swapaxes(train_x, 2, 1)\n",
    "print('Train data size:', train_x.shape, train_label.shape)\n",
    "\n",
    "train_dataset = Soil_Dataset(train_x, train_label, normalize=None, channel_first=True)\n",
    "train_loader = DataLoader(train_dataset, batch_size=CFG.batch_size, shuffle=False)"
   ]
  },
  {
   "cell_type": "code",
   "execution_count": 5,
   "metadata": {},
   "outputs": [
    {
     "data": {
      "text/plain": [
       "<All keys matched successfully>"
      ]
     },
     "execution_count": 5,
     "metadata": {},
     "output_type": "execute_result"
    }
   ],
   "source": [
    "model = TSInceptionSelfAttnEncoderClassifier(\n",
    "        feat_dim=5, \n",
    "        max_len=64, \n",
    "        d_model=512, \n",
    "        num_heads=4,\n",
    "        num_layers=4,\n",
    "        dim_feedforward=None,\n",
    "        num_classes=3).to(CFG.device)\n",
    "\n",
    "model.load_state_dict(torch.load('./outputs/zwy_2022-05-24 16.38.pth'))"
   ]
  },
  {
   "cell_type": "code",
   "execution_count": 6,
   "metadata": {},
   "outputs": [],
   "source": [
    "model.eval()\n",
    "preds = []\n",
    "start = end = time.time()\n",
    "for step, item in enumerate(train_loader):\n",
    "    for k, v in item.items():\n",
    "        item[k] = v.to(CFG.device)\n",
    "\n",
    "    labels = item['label']\n",
    "    batch_size = labels.size(0)\n",
    "    with torch.no_grad():\n",
    "        y_preds = model(item['input'])\n",
    "\n",
    "    preds.append(y_preds.cpu().numpy())\n",
    "\n",
    "predictions = np.concatenate(preds)"
   ]
  },
  {
   "cell_type": "code",
   "execution_count": 7,
   "metadata": {},
   "outputs": [],
   "source": [
    "save_pkl(predictions, './soil_outputs/zwy_prebs.pkl')"
   ]
  },
  {
   "cell_type": "code",
   "execution_count": 8,
   "metadata": {},
   "outputs": [],
   "source": [
    "prebs = load_pkl('./soil_outputs/zwy_prebs.pkl')"
   ]
  },
  {
   "cell_type": "code",
   "execution_count": 9,
   "metadata": {},
   "outputs": [
    {
     "data": {
      "text/plain": [
       "array([2, 2, 2, ..., 0, 0, 0])"
      ]
     },
     "execution_count": 9,
     "metadata": {},
     "output_type": "execute_result"
    }
   ],
   "source": [
    "train_label"
   ]
  },
  {
   "cell_type": "code",
   "execution_count": null,
   "metadata": {},
   "outputs": [],
   "source": []
  }
 ],
 "metadata": {
  "interpreter": {
   "hash": "74e4db294560369147cac1e36bd7a6ec20ab1584edff0f70d657093dc3fbab11"
  },
  "kernelspec": {
   "display_name": "Python 3.7.13 ('torch111')",
   "language": "python",
   "name": "python3"
  },
  "language_info": {
   "codemirror_mode": {
    "name": "ipython",
    "version": 3
   },
   "file_extension": ".py",
   "mimetype": "text/x-python",
   "name": "python",
   "nbconvert_exporter": "python",
   "pygments_lexer": "ipython3",
   "version": "3.7.13"
  },
  "orig_nbformat": 4
 },
 "nbformat": 4,
 "nbformat_minor": 2
}
