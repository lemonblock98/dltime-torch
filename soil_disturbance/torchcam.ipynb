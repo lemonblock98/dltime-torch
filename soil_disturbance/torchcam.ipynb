{
 "cells": [
  {
   "cell_type": "code",
   "execution_count": 1,
   "metadata": {},
   "outputs": [],
   "source": [
    "import os\n",
    "import sys\n",
    "sys.path.append(os.path.abspath('..'))"
   ]
  },
  {
   "cell_type": "code",
   "execution_count": 2,
   "metadata": {},
   "outputs": [
    {
     "name": "stderr",
     "output_type": "stream",
     "text": [
      "/home/shizhaoshu/.conda/envs/torch111/lib/python3.7/site-packages/tqdm/auto.py:22: TqdmWarning: IProgress not found. Please update jupyter and ipywidgets. See https://ipywidgets.readthedocs.io/en/stable/user_install.html\n",
      "  from .autonotebook import tqdm as notebook_tqdm\n"
     ]
    }
   ],
   "source": [
    "import torch\n",
    "import torch.nn as nn\n",
    "import numpy as np\n",
    "import time\n",
    "import datetime\n",
    "import wandb\n",
    "import gc\n",
    "import pandas as pd\n",
    "from train_helper import train_fn, valid_fn\n",
    "from config import TrainConfig\n",
    "from utils import get_logger, get_scheduler, load_pkl, weight_init, save_pkl\n",
    "from dltime.data.ts_datasets import Soil_Dataset\n",
    "from dltime.models.inception_atten import TSInceptionSelfAttnEncoderClassifier\n",
    "from dltime.models.conv_atten import TSTransformerEncoderConvClassifier\n",
    "from transformers import AdamW\n",
    "from torch.utils.data import DataLoader\n",
    "from sklearn.metrics import accuracy_score, f1_score, classification_report, confusion_matrix\n",
    "from sklearn.utils import shuffle\n",
    "from data_process import handle_dataset_3dims"
   ]
  },
  {
   "cell_type": "code",
   "execution_count": 3,
   "metadata": {},
   "outputs": [],
   "source": [
    "CFG = TrainConfig()"
   ]
  },
  {
   "cell_type": "code",
   "execution_count": 4,
   "metadata": {},
   "outputs": [
    {
     "name": "stdout",
     "output_type": "stream",
     "text": [
      "Train data size: (4672, 48, 5) (4672,)\n"
     ]
    }
   ],
   "source": [
    "# data process\n",
    "data_for_train = ['zwy', 'zwy2', 'zwy3', 'zwy4']\n",
    "train_data = []\n",
    "for data_name in data_for_train:\n",
    "    train_data.extend(load_pkl(f'./pickle_data/{data_name}_train.pkl'))\n",
    "\n",
    "train_x, train_label = handle_dataset_3dims(train_data, mode=\"all\")\n",
    "train_x = np.swapaxes(train_x, 2, 1)\n",
    "print('Train data size:', train_x.shape, train_label.shape)\n",
    "\n",
    "train_dataset = Soil_Dataset(train_x, train_label, normalize=None, channel_first=True)\n",
    "train_loader = DataLoader(train_dataset, batch_size=CFG.batch_size, shuffle=True)"
   ]
  },
  {
   "cell_type": "code",
   "execution_count": 9,
   "metadata": {},
   "outputs": [
    {
     "data": {
      "text/plain": [
       "<All keys matched successfully>"
      ]
     },
     "execution_count": 9,
     "metadata": {},
     "output_type": "execute_result"
    }
   ],
   "source": [
    "model = TSInceptionSelfAttnEncoderClassifier(\n",
    "        feat_dim=5, \n",
    "        max_len=64, \n",
    "        d_model=512, \n",
    "        num_heads=4,\n",
    "        num_layers=4,\n",
    "        dim_feedforward=None,\n",
    "        num_classes=3)\n",
    "\n",
    "model.load_state_dict(torch.load('./outputs/zwy_2022-05-30 15.11.pth', map_location='cpu'))"
   ]
  },
  {
   "cell_type": "code",
   "execution_count": 6,
   "metadata": {},
   "outputs": [],
   "source": [
    "model.eval()\n",
    "preds = []\n",
    "start = end = time.time()\n",
    "for step, item in enumerate(train_loader):\n",
    "    for k, v in item.items():\n",
    "        item[k] = v.to(CFG.device)\n",
    "\n",
    "    labels = item['label']\n",
    "    batch_size = labels.size(0)\n",
    "    with torch.no_grad():\n",
    "        y_preds = model(item['input'])\n",
    "\n",
    "    preds.append(y_preds.cpu().numpy())\n",
    "\n",
    "predictions = np.concatenate(preds)"
   ]
  },
  {
   "cell_type": "code",
   "execution_count": 20,
   "metadata": {},
   "outputs": [],
   "source": [
    "from torchcam.methods import CAM"
   ]
  },
  {
   "cell_type": "code",
   "execution_count": 21,
   "metadata": {},
   "outputs": [
    {
     "name": "stdout",
     "output_type": "stream",
     "text": [
      "project_inp.weight torch.Size([512, 5, 1])\n",
      "encoder.0.self_attn.wq.0.bottleneck.conv1d.weight torch.Size([32, 512, 1])\n",
      "encoder.0.self_attn.wq.0.convs.0.conv1d.weight torch.Size([32, 32, 39])\n",
      "encoder.0.self_attn.wq.0.convs.1.conv1d.weight torch.Size([32, 32, 19])\n",
      "encoder.0.self_attn.wq.0.convs.2.conv1d.weight torch.Size([32, 32, 9])\n",
      "encoder.0.self_attn.wq.0.maxconvpool.1.conv1d.weight torch.Size([32, 512, 1])\n",
      "encoder.0.self_attn.wq.0.bn.weight torch.Size([128])\n",
      "encoder.0.self_attn.wq.0.bn.bias torch.Size([128])\n",
      "encoder.0.self_attn.wq.1.bottleneck.conv1d.weight torch.Size([32, 512, 1])\n",
      "encoder.0.self_attn.wq.1.convs.0.conv1d.weight torch.Size([32, 32, 39])\n",
      "encoder.0.self_attn.wq.1.convs.1.conv1d.weight torch.Size([32, 32, 19])\n",
      "encoder.0.self_attn.wq.1.convs.2.conv1d.weight torch.Size([32, 32, 9])\n",
      "encoder.0.self_attn.wq.1.maxconvpool.1.conv1d.weight torch.Size([32, 512, 1])\n",
      "encoder.0.self_attn.wq.1.bn.weight torch.Size([128])\n",
      "encoder.0.self_attn.wq.1.bn.bias torch.Size([128])\n",
      "encoder.0.self_attn.wq.2.bottleneck.conv1d.weight torch.Size([32, 512, 1])\n",
      "encoder.0.self_attn.wq.2.convs.0.conv1d.weight torch.Size([32, 32, 39])\n",
      "encoder.0.self_attn.wq.2.convs.1.conv1d.weight torch.Size([32, 32, 19])\n",
      "encoder.0.self_attn.wq.2.convs.2.conv1d.weight torch.Size([32, 32, 9])\n",
      "encoder.0.self_attn.wq.2.maxconvpool.1.conv1d.weight torch.Size([32, 512, 1])\n",
      "encoder.0.self_attn.wq.2.bn.weight torch.Size([128])\n",
      "encoder.0.self_attn.wq.2.bn.bias torch.Size([128])\n",
      "encoder.0.self_attn.wq.3.bottleneck.conv1d.weight torch.Size([32, 512, 1])\n",
      "encoder.0.self_attn.wq.3.convs.0.conv1d.weight torch.Size([32, 32, 39])\n",
      "encoder.0.self_attn.wq.3.convs.1.conv1d.weight torch.Size([32, 32, 19])\n",
      "encoder.0.self_attn.wq.3.convs.2.conv1d.weight torch.Size([32, 32, 9])\n",
      "encoder.0.self_attn.wq.3.maxconvpool.1.conv1d.weight torch.Size([32, 512, 1])\n",
      "encoder.0.self_attn.wq.3.bn.weight torch.Size([128])\n",
      "encoder.0.self_attn.wq.3.bn.bias torch.Size([128])\n",
      "encoder.0.self_attn.wk.0.bottleneck.conv1d.weight torch.Size([32, 512, 1])\n",
      "encoder.0.self_attn.wk.0.convs.0.conv1d.weight torch.Size([32, 32, 39])\n",
      "encoder.0.self_attn.wk.0.convs.1.conv1d.weight torch.Size([32, 32, 19])\n",
      "encoder.0.self_attn.wk.0.convs.2.conv1d.weight torch.Size([32, 32, 9])\n",
      "encoder.0.self_attn.wk.0.maxconvpool.1.conv1d.weight torch.Size([32, 512, 1])\n",
      "encoder.0.self_attn.wk.0.bn.weight torch.Size([128])\n",
      "encoder.0.self_attn.wk.0.bn.bias torch.Size([128])\n",
      "encoder.0.self_attn.wk.1.bottleneck.conv1d.weight torch.Size([32, 512, 1])\n",
      "encoder.0.self_attn.wk.1.convs.0.conv1d.weight torch.Size([32, 32, 39])\n",
      "encoder.0.self_attn.wk.1.convs.1.conv1d.weight torch.Size([32, 32, 19])\n",
      "encoder.0.self_attn.wk.1.convs.2.conv1d.weight torch.Size([32, 32, 9])\n",
      "encoder.0.self_attn.wk.1.maxconvpool.1.conv1d.weight torch.Size([32, 512, 1])\n",
      "encoder.0.self_attn.wk.1.bn.weight torch.Size([128])\n",
      "encoder.0.self_attn.wk.1.bn.bias torch.Size([128])\n",
      "encoder.0.self_attn.wk.2.bottleneck.conv1d.weight torch.Size([32, 512, 1])\n",
      "encoder.0.self_attn.wk.2.convs.0.conv1d.weight torch.Size([32, 32, 39])\n",
      "encoder.0.self_attn.wk.2.convs.1.conv1d.weight torch.Size([32, 32, 19])\n",
      "encoder.0.self_attn.wk.2.convs.2.conv1d.weight torch.Size([32, 32, 9])\n",
      "encoder.0.self_attn.wk.2.maxconvpool.1.conv1d.weight torch.Size([32, 512, 1])\n",
      "encoder.0.self_attn.wk.2.bn.weight torch.Size([128])\n",
      "encoder.0.self_attn.wk.2.bn.bias torch.Size([128])\n",
      "encoder.0.self_attn.wk.3.bottleneck.conv1d.weight torch.Size([32, 512, 1])\n",
      "encoder.0.self_attn.wk.3.convs.0.conv1d.weight torch.Size([32, 32, 39])\n",
      "encoder.0.self_attn.wk.3.convs.1.conv1d.weight torch.Size([32, 32, 19])\n",
      "encoder.0.self_attn.wk.3.convs.2.conv1d.weight torch.Size([32, 32, 9])\n",
      "encoder.0.self_attn.wk.3.maxconvpool.1.conv1d.weight torch.Size([32, 512, 1])\n",
      "encoder.0.self_attn.wk.3.bn.weight torch.Size([128])\n",
      "encoder.0.self_attn.wk.3.bn.bias torch.Size([128])\n",
      "encoder.0.self_attn.wv.0.bottleneck.conv1d.weight torch.Size([32, 512, 1])\n",
      "encoder.0.self_attn.wv.0.convs.0.conv1d.weight torch.Size([32, 32, 39])\n",
      "encoder.0.self_attn.wv.0.convs.1.conv1d.weight torch.Size([32, 32, 19])\n",
      "encoder.0.self_attn.wv.0.convs.2.conv1d.weight torch.Size([32, 32, 9])\n",
      "encoder.0.self_attn.wv.0.maxconvpool.1.conv1d.weight torch.Size([32, 512, 1])\n",
      "encoder.0.self_attn.wv.0.bn.weight torch.Size([128])\n",
      "encoder.0.self_attn.wv.0.bn.bias torch.Size([128])\n",
      "encoder.0.self_attn.wv.1.bottleneck.conv1d.weight torch.Size([32, 512, 1])\n",
      "encoder.0.self_attn.wv.1.convs.0.conv1d.weight torch.Size([32, 32, 39])\n",
      "encoder.0.self_attn.wv.1.convs.1.conv1d.weight torch.Size([32, 32, 19])\n",
      "encoder.0.self_attn.wv.1.convs.2.conv1d.weight torch.Size([32, 32, 9])\n",
      "encoder.0.self_attn.wv.1.maxconvpool.1.conv1d.weight torch.Size([32, 512, 1])\n",
      "encoder.0.self_attn.wv.1.bn.weight torch.Size([128])\n",
      "encoder.0.self_attn.wv.1.bn.bias torch.Size([128])\n",
      "encoder.0.self_attn.wv.2.bottleneck.conv1d.weight torch.Size([32, 512, 1])\n",
      "encoder.0.self_attn.wv.2.convs.0.conv1d.weight torch.Size([32, 32, 39])\n",
      "encoder.0.self_attn.wv.2.convs.1.conv1d.weight torch.Size([32, 32, 19])\n",
      "encoder.0.self_attn.wv.2.convs.2.conv1d.weight torch.Size([32, 32, 9])\n",
      "encoder.0.self_attn.wv.2.maxconvpool.1.conv1d.weight torch.Size([32, 512, 1])\n",
      "encoder.0.self_attn.wv.2.bn.weight torch.Size([128])\n",
      "encoder.0.self_attn.wv.2.bn.bias torch.Size([128])\n",
      "encoder.0.self_attn.wv.3.bottleneck.conv1d.weight torch.Size([32, 512, 1])\n",
      "encoder.0.self_attn.wv.3.convs.0.conv1d.weight torch.Size([32, 32, 39])\n",
      "encoder.0.self_attn.wv.3.convs.1.conv1d.weight torch.Size([32, 32, 19])\n",
      "encoder.0.self_attn.wv.3.convs.2.conv1d.weight torch.Size([32, 32, 9])\n",
      "encoder.0.self_attn.wv.3.maxconvpool.1.conv1d.weight torch.Size([32, 512, 1])\n",
      "encoder.0.self_attn.wv.3.bn.weight torch.Size([128])\n",
      "encoder.0.self_attn.wv.3.bn.bias torch.Size([128])\n",
      "encoder.0.self_attn.final_linear.conv1d.weight torch.Size([512, 512, 3])\n",
      "encoder.0.self_attn.final_linear.conv1d.bias torch.Size([512])\n",
      "encoder.0.norm.weight torch.Size([512])\n",
      "encoder.0.norm.bias torch.Size([512])\n",
      "encoder.0.shortcut.weight torch.Size([512])\n",
      "encoder.0.shortcut.bias torch.Size([512])\n",
      "encoder.1.self_attn.wq.0.bottleneck.conv1d.weight torch.Size([32, 512, 1])\n",
      "encoder.1.self_attn.wq.0.convs.0.conv1d.weight torch.Size([32, 32, 39])\n",
      "encoder.1.self_attn.wq.0.convs.1.conv1d.weight torch.Size([32, 32, 19])\n",
      "encoder.1.self_attn.wq.0.convs.2.conv1d.weight torch.Size([32, 32, 9])\n",
      "encoder.1.self_attn.wq.0.maxconvpool.1.conv1d.weight torch.Size([32, 512, 1])\n",
      "encoder.1.self_attn.wq.0.bn.weight torch.Size([128])\n",
      "encoder.1.self_attn.wq.0.bn.bias torch.Size([128])\n",
      "encoder.1.self_attn.wq.1.bottleneck.conv1d.weight torch.Size([32, 512, 1])\n",
      "encoder.1.self_attn.wq.1.convs.0.conv1d.weight torch.Size([32, 32, 39])\n",
      "encoder.1.self_attn.wq.1.convs.1.conv1d.weight torch.Size([32, 32, 19])\n",
      "encoder.1.self_attn.wq.1.convs.2.conv1d.weight torch.Size([32, 32, 9])\n",
      "encoder.1.self_attn.wq.1.maxconvpool.1.conv1d.weight torch.Size([32, 512, 1])\n",
      "encoder.1.self_attn.wq.1.bn.weight torch.Size([128])\n",
      "encoder.1.self_attn.wq.1.bn.bias torch.Size([128])\n",
      "encoder.1.self_attn.wq.2.bottleneck.conv1d.weight torch.Size([32, 512, 1])\n",
      "encoder.1.self_attn.wq.2.convs.0.conv1d.weight torch.Size([32, 32, 39])\n",
      "encoder.1.self_attn.wq.2.convs.1.conv1d.weight torch.Size([32, 32, 19])\n",
      "encoder.1.self_attn.wq.2.convs.2.conv1d.weight torch.Size([32, 32, 9])\n",
      "encoder.1.self_attn.wq.2.maxconvpool.1.conv1d.weight torch.Size([32, 512, 1])\n",
      "encoder.1.self_attn.wq.2.bn.weight torch.Size([128])\n",
      "encoder.1.self_attn.wq.2.bn.bias torch.Size([128])\n",
      "encoder.1.self_attn.wq.3.bottleneck.conv1d.weight torch.Size([32, 512, 1])\n",
      "encoder.1.self_attn.wq.3.convs.0.conv1d.weight torch.Size([32, 32, 39])\n",
      "encoder.1.self_attn.wq.3.convs.1.conv1d.weight torch.Size([32, 32, 19])\n",
      "encoder.1.self_attn.wq.3.convs.2.conv1d.weight torch.Size([32, 32, 9])\n",
      "encoder.1.self_attn.wq.3.maxconvpool.1.conv1d.weight torch.Size([32, 512, 1])\n",
      "encoder.1.self_attn.wq.3.bn.weight torch.Size([128])\n",
      "encoder.1.self_attn.wq.3.bn.bias torch.Size([128])\n",
      "encoder.1.self_attn.wk.0.bottleneck.conv1d.weight torch.Size([32, 512, 1])\n",
      "encoder.1.self_attn.wk.0.convs.0.conv1d.weight torch.Size([32, 32, 39])\n",
      "encoder.1.self_attn.wk.0.convs.1.conv1d.weight torch.Size([32, 32, 19])\n",
      "encoder.1.self_attn.wk.0.convs.2.conv1d.weight torch.Size([32, 32, 9])\n",
      "encoder.1.self_attn.wk.0.maxconvpool.1.conv1d.weight torch.Size([32, 512, 1])\n",
      "encoder.1.self_attn.wk.0.bn.weight torch.Size([128])\n",
      "encoder.1.self_attn.wk.0.bn.bias torch.Size([128])\n",
      "encoder.1.self_attn.wk.1.bottleneck.conv1d.weight torch.Size([32, 512, 1])\n",
      "encoder.1.self_attn.wk.1.convs.0.conv1d.weight torch.Size([32, 32, 39])\n",
      "encoder.1.self_attn.wk.1.convs.1.conv1d.weight torch.Size([32, 32, 19])\n",
      "encoder.1.self_attn.wk.1.convs.2.conv1d.weight torch.Size([32, 32, 9])\n",
      "encoder.1.self_attn.wk.1.maxconvpool.1.conv1d.weight torch.Size([32, 512, 1])\n",
      "encoder.1.self_attn.wk.1.bn.weight torch.Size([128])\n",
      "encoder.1.self_attn.wk.1.bn.bias torch.Size([128])\n",
      "encoder.1.self_attn.wk.2.bottleneck.conv1d.weight torch.Size([32, 512, 1])\n",
      "encoder.1.self_attn.wk.2.convs.0.conv1d.weight torch.Size([32, 32, 39])\n",
      "encoder.1.self_attn.wk.2.convs.1.conv1d.weight torch.Size([32, 32, 19])\n",
      "encoder.1.self_attn.wk.2.convs.2.conv1d.weight torch.Size([32, 32, 9])\n",
      "encoder.1.self_attn.wk.2.maxconvpool.1.conv1d.weight torch.Size([32, 512, 1])\n",
      "encoder.1.self_attn.wk.2.bn.weight torch.Size([128])\n",
      "encoder.1.self_attn.wk.2.bn.bias torch.Size([128])\n",
      "encoder.1.self_attn.wk.3.bottleneck.conv1d.weight torch.Size([32, 512, 1])\n",
      "encoder.1.self_attn.wk.3.convs.0.conv1d.weight torch.Size([32, 32, 39])\n",
      "encoder.1.self_attn.wk.3.convs.1.conv1d.weight torch.Size([32, 32, 19])\n",
      "encoder.1.self_attn.wk.3.convs.2.conv1d.weight torch.Size([32, 32, 9])\n",
      "encoder.1.self_attn.wk.3.maxconvpool.1.conv1d.weight torch.Size([32, 512, 1])\n",
      "encoder.1.self_attn.wk.3.bn.weight torch.Size([128])\n",
      "encoder.1.self_attn.wk.3.bn.bias torch.Size([128])\n",
      "encoder.1.self_attn.wv.0.bottleneck.conv1d.weight torch.Size([32, 512, 1])\n",
      "encoder.1.self_attn.wv.0.convs.0.conv1d.weight torch.Size([32, 32, 39])\n",
      "encoder.1.self_attn.wv.0.convs.1.conv1d.weight torch.Size([32, 32, 19])\n",
      "encoder.1.self_attn.wv.0.convs.2.conv1d.weight torch.Size([32, 32, 9])\n",
      "encoder.1.self_attn.wv.0.maxconvpool.1.conv1d.weight torch.Size([32, 512, 1])\n",
      "encoder.1.self_attn.wv.0.bn.weight torch.Size([128])\n",
      "encoder.1.self_attn.wv.0.bn.bias torch.Size([128])\n",
      "encoder.1.self_attn.wv.1.bottleneck.conv1d.weight torch.Size([32, 512, 1])\n",
      "encoder.1.self_attn.wv.1.convs.0.conv1d.weight torch.Size([32, 32, 39])\n",
      "encoder.1.self_attn.wv.1.convs.1.conv1d.weight torch.Size([32, 32, 19])\n",
      "encoder.1.self_attn.wv.1.convs.2.conv1d.weight torch.Size([32, 32, 9])\n",
      "encoder.1.self_attn.wv.1.maxconvpool.1.conv1d.weight torch.Size([32, 512, 1])\n",
      "encoder.1.self_attn.wv.1.bn.weight torch.Size([128])\n",
      "encoder.1.self_attn.wv.1.bn.bias torch.Size([128])\n",
      "encoder.1.self_attn.wv.2.bottleneck.conv1d.weight torch.Size([32, 512, 1])\n",
      "encoder.1.self_attn.wv.2.convs.0.conv1d.weight torch.Size([32, 32, 39])\n",
      "encoder.1.self_attn.wv.2.convs.1.conv1d.weight torch.Size([32, 32, 19])\n",
      "encoder.1.self_attn.wv.2.convs.2.conv1d.weight torch.Size([32, 32, 9])\n",
      "encoder.1.self_attn.wv.2.maxconvpool.1.conv1d.weight torch.Size([32, 512, 1])\n",
      "encoder.1.self_attn.wv.2.bn.weight torch.Size([128])\n",
      "encoder.1.self_attn.wv.2.bn.bias torch.Size([128])\n",
      "encoder.1.self_attn.wv.3.bottleneck.conv1d.weight torch.Size([32, 512, 1])\n",
      "encoder.1.self_attn.wv.3.convs.0.conv1d.weight torch.Size([32, 32, 39])\n",
      "encoder.1.self_attn.wv.3.convs.1.conv1d.weight torch.Size([32, 32, 19])\n",
      "encoder.1.self_attn.wv.3.convs.2.conv1d.weight torch.Size([32, 32, 9])\n",
      "encoder.1.self_attn.wv.3.maxconvpool.1.conv1d.weight torch.Size([32, 512, 1])\n",
      "encoder.1.self_attn.wv.3.bn.weight torch.Size([128])\n",
      "encoder.1.self_attn.wv.3.bn.bias torch.Size([128])\n",
      "encoder.1.self_attn.final_linear.conv1d.weight torch.Size([512, 512, 3])\n",
      "encoder.1.self_attn.final_linear.conv1d.bias torch.Size([512])\n",
      "encoder.1.norm.weight torch.Size([512])\n",
      "encoder.1.norm.bias torch.Size([512])\n",
      "encoder.1.shortcut.weight torch.Size([512])\n",
      "encoder.1.shortcut.bias torch.Size([512])\n",
      "encoder.2.self_attn.wq.0.bottleneck.conv1d.weight torch.Size([32, 512, 1])\n",
      "encoder.2.self_attn.wq.0.convs.0.conv1d.weight torch.Size([32, 32, 39])\n",
      "encoder.2.self_attn.wq.0.convs.1.conv1d.weight torch.Size([32, 32, 19])\n",
      "encoder.2.self_attn.wq.0.convs.2.conv1d.weight torch.Size([32, 32, 9])\n",
      "encoder.2.self_attn.wq.0.maxconvpool.1.conv1d.weight torch.Size([32, 512, 1])\n",
      "encoder.2.self_attn.wq.0.bn.weight torch.Size([128])\n",
      "encoder.2.self_attn.wq.0.bn.bias torch.Size([128])\n",
      "encoder.2.self_attn.wq.1.bottleneck.conv1d.weight torch.Size([32, 512, 1])\n",
      "encoder.2.self_attn.wq.1.convs.0.conv1d.weight torch.Size([32, 32, 39])\n",
      "encoder.2.self_attn.wq.1.convs.1.conv1d.weight torch.Size([32, 32, 19])\n",
      "encoder.2.self_attn.wq.1.convs.2.conv1d.weight torch.Size([32, 32, 9])\n",
      "encoder.2.self_attn.wq.1.maxconvpool.1.conv1d.weight torch.Size([32, 512, 1])\n",
      "encoder.2.self_attn.wq.1.bn.weight torch.Size([128])\n",
      "encoder.2.self_attn.wq.1.bn.bias torch.Size([128])\n",
      "encoder.2.self_attn.wq.2.bottleneck.conv1d.weight torch.Size([32, 512, 1])\n",
      "encoder.2.self_attn.wq.2.convs.0.conv1d.weight torch.Size([32, 32, 39])\n",
      "encoder.2.self_attn.wq.2.convs.1.conv1d.weight torch.Size([32, 32, 19])\n",
      "encoder.2.self_attn.wq.2.convs.2.conv1d.weight torch.Size([32, 32, 9])\n",
      "encoder.2.self_attn.wq.2.maxconvpool.1.conv1d.weight torch.Size([32, 512, 1])\n",
      "encoder.2.self_attn.wq.2.bn.weight torch.Size([128])\n",
      "encoder.2.self_attn.wq.2.bn.bias torch.Size([128])\n",
      "encoder.2.self_attn.wq.3.bottleneck.conv1d.weight torch.Size([32, 512, 1])\n",
      "encoder.2.self_attn.wq.3.convs.0.conv1d.weight torch.Size([32, 32, 39])\n",
      "encoder.2.self_attn.wq.3.convs.1.conv1d.weight torch.Size([32, 32, 19])\n",
      "encoder.2.self_attn.wq.3.convs.2.conv1d.weight torch.Size([32, 32, 9])\n",
      "encoder.2.self_attn.wq.3.maxconvpool.1.conv1d.weight torch.Size([32, 512, 1])\n",
      "encoder.2.self_attn.wq.3.bn.weight torch.Size([128])\n",
      "encoder.2.self_attn.wq.3.bn.bias torch.Size([128])\n",
      "encoder.2.self_attn.wk.0.bottleneck.conv1d.weight torch.Size([32, 512, 1])\n",
      "encoder.2.self_attn.wk.0.convs.0.conv1d.weight torch.Size([32, 32, 39])\n",
      "encoder.2.self_attn.wk.0.convs.1.conv1d.weight torch.Size([32, 32, 19])\n",
      "encoder.2.self_attn.wk.0.convs.2.conv1d.weight torch.Size([32, 32, 9])\n",
      "encoder.2.self_attn.wk.0.maxconvpool.1.conv1d.weight torch.Size([32, 512, 1])\n",
      "encoder.2.self_attn.wk.0.bn.weight torch.Size([128])\n",
      "encoder.2.self_attn.wk.0.bn.bias torch.Size([128])\n",
      "encoder.2.self_attn.wk.1.bottleneck.conv1d.weight torch.Size([32, 512, 1])\n",
      "encoder.2.self_attn.wk.1.convs.0.conv1d.weight torch.Size([32, 32, 39])\n",
      "encoder.2.self_attn.wk.1.convs.1.conv1d.weight torch.Size([32, 32, 19])\n",
      "encoder.2.self_attn.wk.1.convs.2.conv1d.weight torch.Size([32, 32, 9])\n",
      "encoder.2.self_attn.wk.1.maxconvpool.1.conv1d.weight torch.Size([32, 512, 1])\n",
      "encoder.2.self_attn.wk.1.bn.weight torch.Size([128])\n",
      "encoder.2.self_attn.wk.1.bn.bias torch.Size([128])\n",
      "encoder.2.self_attn.wk.2.bottleneck.conv1d.weight torch.Size([32, 512, 1])\n",
      "encoder.2.self_attn.wk.2.convs.0.conv1d.weight torch.Size([32, 32, 39])\n",
      "encoder.2.self_attn.wk.2.convs.1.conv1d.weight torch.Size([32, 32, 19])\n",
      "encoder.2.self_attn.wk.2.convs.2.conv1d.weight torch.Size([32, 32, 9])\n",
      "encoder.2.self_attn.wk.2.maxconvpool.1.conv1d.weight torch.Size([32, 512, 1])\n",
      "encoder.2.self_attn.wk.2.bn.weight torch.Size([128])\n",
      "encoder.2.self_attn.wk.2.bn.bias torch.Size([128])\n",
      "encoder.2.self_attn.wk.3.bottleneck.conv1d.weight torch.Size([32, 512, 1])\n",
      "encoder.2.self_attn.wk.3.convs.0.conv1d.weight torch.Size([32, 32, 39])\n",
      "encoder.2.self_attn.wk.3.convs.1.conv1d.weight torch.Size([32, 32, 19])\n",
      "encoder.2.self_attn.wk.3.convs.2.conv1d.weight torch.Size([32, 32, 9])\n",
      "encoder.2.self_attn.wk.3.maxconvpool.1.conv1d.weight torch.Size([32, 512, 1])\n",
      "encoder.2.self_attn.wk.3.bn.weight torch.Size([128])\n",
      "encoder.2.self_attn.wk.3.bn.bias torch.Size([128])\n",
      "encoder.2.self_attn.wv.0.bottleneck.conv1d.weight torch.Size([32, 512, 1])\n",
      "encoder.2.self_attn.wv.0.convs.0.conv1d.weight torch.Size([32, 32, 39])\n",
      "encoder.2.self_attn.wv.0.convs.1.conv1d.weight torch.Size([32, 32, 19])\n",
      "encoder.2.self_attn.wv.0.convs.2.conv1d.weight torch.Size([32, 32, 9])\n",
      "encoder.2.self_attn.wv.0.maxconvpool.1.conv1d.weight torch.Size([32, 512, 1])\n",
      "encoder.2.self_attn.wv.0.bn.weight torch.Size([128])\n",
      "encoder.2.self_attn.wv.0.bn.bias torch.Size([128])\n",
      "encoder.2.self_attn.wv.1.bottleneck.conv1d.weight torch.Size([32, 512, 1])\n",
      "encoder.2.self_attn.wv.1.convs.0.conv1d.weight torch.Size([32, 32, 39])\n",
      "encoder.2.self_attn.wv.1.convs.1.conv1d.weight torch.Size([32, 32, 19])\n",
      "encoder.2.self_attn.wv.1.convs.2.conv1d.weight torch.Size([32, 32, 9])\n",
      "encoder.2.self_attn.wv.1.maxconvpool.1.conv1d.weight torch.Size([32, 512, 1])\n",
      "encoder.2.self_attn.wv.1.bn.weight torch.Size([128])\n",
      "encoder.2.self_attn.wv.1.bn.bias torch.Size([128])\n",
      "encoder.2.self_attn.wv.2.bottleneck.conv1d.weight torch.Size([32, 512, 1])\n",
      "encoder.2.self_attn.wv.2.convs.0.conv1d.weight torch.Size([32, 32, 39])\n",
      "encoder.2.self_attn.wv.2.convs.1.conv1d.weight torch.Size([32, 32, 19])\n",
      "encoder.2.self_attn.wv.2.convs.2.conv1d.weight torch.Size([32, 32, 9])\n",
      "encoder.2.self_attn.wv.2.maxconvpool.1.conv1d.weight torch.Size([32, 512, 1])\n",
      "encoder.2.self_attn.wv.2.bn.weight torch.Size([128])\n",
      "encoder.2.self_attn.wv.2.bn.bias torch.Size([128])\n",
      "encoder.2.self_attn.wv.3.bottleneck.conv1d.weight torch.Size([32, 512, 1])\n",
      "encoder.2.self_attn.wv.3.convs.0.conv1d.weight torch.Size([32, 32, 39])\n",
      "encoder.2.self_attn.wv.3.convs.1.conv1d.weight torch.Size([32, 32, 19])\n",
      "encoder.2.self_attn.wv.3.convs.2.conv1d.weight torch.Size([32, 32, 9])\n",
      "encoder.2.self_attn.wv.3.maxconvpool.1.conv1d.weight torch.Size([32, 512, 1])\n",
      "encoder.2.self_attn.wv.3.bn.weight torch.Size([128])\n",
      "encoder.2.self_attn.wv.3.bn.bias torch.Size([128])\n",
      "encoder.2.self_attn.final_linear.conv1d.weight torch.Size([512, 512, 3])\n",
      "encoder.2.self_attn.final_linear.conv1d.bias torch.Size([512])\n",
      "encoder.2.norm.weight torch.Size([512])\n",
      "encoder.2.norm.bias torch.Size([512])\n",
      "encoder.2.shortcut.weight torch.Size([512])\n",
      "encoder.2.shortcut.bias torch.Size([512])\n",
      "encoder.3.self_attn.wq.0.bottleneck.conv1d.weight torch.Size([32, 512, 1])\n",
      "encoder.3.self_attn.wq.0.convs.0.conv1d.weight torch.Size([32, 32, 39])\n",
      "encoder.3.self_attn.wq.0.convs.1.conv1d.weight torch.Size([32, 32, 19])\n",
      "encoder.3.self_attn.wq.0.convs.2.conv1d.weight torch.Size([32, 32, 9])\n",
      "encoder.3.self_attn.wq.0.maxconvpool.1.conv1d.weight torch.Size([32, 512, 1])\n",
      "encoder.3.self_attn.wq.0.bn.weight torch.Size([128])\n",
      "encoder.3.self_attn.wq.0.bn.bias torch.Size([128])\n",
      "encoder.3.self_attn.wq.1.bottleneck.conv1d.weight torch.Size([32, 512, 1])\n",
      "encoder.3.self_attn.wq.1.convs.0.conv1d.weight torch.Size([32, 32, 39])\n",
      "encoder.3.self_attn.wq.1.convs.1.conv1d.weight torch.Size([32, 32, 19])\n",
      "encoder.3.self_attn.wq.1.convs.2.conv1d.weight torch.Size([32, 32, 9])\n",
      "encoder.3.self_attn.wq.1.maxconvpool.1.conv1d.weight torch.Size([32, 512, 1])\n",
      "encoder.3.self_attn.wq.1.bn.weight torch.Size([128])\n",
      "encoder.3.self_attn.wq.1.bn.bias torch.Size([128])\n",
      "encoder.3.self_attn.wq.2.bottleneck.conv1d.weight torch.Size([32, 512, 1])\n",
      "encoder.3.self_attn.wq.2.convs.0.conv1d.weight torch.Size([32, 32, 39])\n",
      "encoder.3.self_attn.wq.2.convs.1.conv1d.weight torch.Size([32, 32, 19])\n",
      "encoder.3.self_attn.wq.2.convs.2.conv1d.weight torch.Size([32, 32, 9])\n",
      "encoder.3.self_attn.wq.2.maxconvpool.1.conv1d.weight torch.Size([32, 512, 1])\n",
      "encoder.3.self_attn.wq.2.bn.weight torch.Size([128])\n",
      "encoder.3.self_attn.wq.2.bn.bias torch.Size([128])\n",
      "encoder.3.self_attn.wq.3.bottleneck.conv1d.weight torch.Size([32, 512, 1])\n",
      "encoder.3.self_attn.wq.3.convs.0.conv1d.weight torch.Size([32, 32, 39])\n",
      "encoder.3.self_attn.wq.3.convs.1.conv1d.weight torch.Size([32, 32, 19])\n",
      "encoder.3.self_attn.wq.3.convs.2.conv1d.weight torch.Size([32, 32, 9])\n",
      "encoder.3.self_attn.wq.3.maxconvpool.1.conv1d.weight torch.Size([32, 512, 1])\n",
      "encoder.3.self_attn.wq.3.bn.weight torch.Size([128])\n",
      "encoder.3.self_attn.wq.3.bn.bias torch.Size([128])\n",
      "encoder.3.self_attn.wk.0.bottleneck.conv1d.weight torch.Size([32, 512, 1])\n",
      "encoder.3.self_attn.wk.0.convs.0.conv1d.weight torch.Size([32, 32, 39])\n",
      "encoder.3.self_attn.wk.0.convs.1.conv1d.weight torch.Size([32, 32, 19])\n",
      "encoder.3.self_attn.wk.0.convs.2.conv1d.weight torch.Size([32, 32, 9])\n",
      "encoder.3.self_attn.wk.0.maxconvpool.1.conv1d.weight torch.Size([32, 512, 1])\n",
      "encoder.3.self_attn.wk.0.bn.weight torch.Size([128])\n",
      "encoder.3.self_attn.wk.0.bn.bias torch.Size([128])\n",
      "encoder.3.self_attn.wk.1.bottleneck.conv1d.weight torch.Size([32, 512, 1])\n",
      "encoder.3.self_attn.wk.1.convs.0.conv1d.weight torch.Size([32, 32, 39])\n",
      "encoder.3.self_attn.wk.1.convs.1.conv1d.weight torch.Size([32, 32, 19])\n",
      "encoder.3.self_attn.wk.1.convs.2.conv1d.weight torch.Size([32, 32, 9])\n",
      "encoder.3.self_attn.wk.1.maxconvpool.1.conv1d.weight torch.Size([32, 512, 1])\n",
      "encoder.3.self_attn.wk.1.bn.weight torch.Size([128])\n",
      "encoder.3.self_attn.wk.1.bn.bias torch.Size([128])\n",
      "encoder.3.self_attn.wk.2.bottleneck.conv1d.weight torch.Size([32, 512, 1])\n",
      "encoder.3.self_attn.wk.2.convs.0.conv1d.weight torch.Size([32, 32, 39])\n",
      "encoder.3.self_attn.wk.2.convs.1.conv1d.weight torch.Size([32, 32, 19])\n",
      "encoder.3.self_attn.wk.2.convs.2.conv1d.weight torch.Size([32, 32, 9])\n",
      "encoder.3.self_attn.wk.2.maxconvpool.1.conv1d.weight torch.Size([32, 512, 1])\n",
      "encoder.3.self_attn.wk.2.bn.weight torch.Size([128])\n",
      "encoder.3.self_attn.wk.2.bn.bias torch.Size([128])\n",
      "encoder.3.self_attn.wk.3.bottleneck.conv1d.weight torch.Size([32, 512, 1])\n",
      "encoder.3.self_attn.wk.3.convs.0.conv1d.weight torch.Size([32, 32, 39])\n",
      "encoder.3.self_attn.wk.3.convs.1.conv1d.weight torch.Size([32, 32, 19])\n",
      "encoder.3.self_attn.wk.3.convs.2.conv1d.weight torch.Size([32, 32, 9])\n",
      "encoder.3.self_attn.wk.3.maxconvpool.1.conv1d.weight torch.Size([32, 512, 1])\n",
      "encoder.3.self_attn.wk.3.bn.weight torch.Size([128])\n",
      "encoder.3.self_attn.wk.3.bn.bias torch.Size([128])\n",
      "encoder.3.self_attn.wv.0.bottleneck.conv1d.weight torch.Size([32, 512, 1])\n",
      "encoder.3.self_attn.wv.0.convs.0.conv1d.weight torch.Size([32, 32, 39])\n",
      "encoder.3.self_attn.wv.0.convs.1.conv1d.weight torch.Size([32, 32, 19])\n",
      "encoder.3.self_attn.wv.0.convs.2.conv1d.weight torch.Size([32, 32, 9])\n",
      "encoder.3.self_attn.wv.0.maxconvpool.1.conv1d.weight torch.Size([32, 512, 1])\n",
      "encoder.3.self_attn.wv.0.bn.weight torch.Size([128])\n",
      "encoder.3.self_attn.wv.0.bn.bias torch.Size([128])\n",
      "encoder.3.self_attn.wv.1.bottleneck.conv1d.weight torch.Size([32, 512, 1])\n",
      "encoder.3.self_attn.wv.1.convs.0.conv1d.weight torch.Size([32, 32, 39])\n",
      "encoder.3.self_attn.wv.1.convs.1.conv1d.weight torch.Size([32, 32, 19])\n",
      "encoder.3.self_attn.wv.1.convs.2.conv1d.weight torch.Size([32, 32, 9])\n",
      "encoder.3.self_attn.wv.1.maxconvpool.1.conv1d.weight torch.Size([32, 512, 1])\n",
      "encoder.3.self_attn.wv.1.bn.weight torch.Size([128])\n",
      "encoder.3.self_attn.wv.1.bn.bias torch.Size([128])\n",
      "encoder.3.self_attn.wv.2.bottleneck.conv1d.weight torch.Size([32, 512, 1])\n",
      "encoder.3.self_attn.wv.2.convs.0.conv1d.weight torch.Size([32, 32, 39])\n",
      "encoder.3.self_attn.wv.2.convs.1.conv1d.weight torch.Size([32, 32, 19])\n",
      "encoder.3.self_attn.wv.2.convs.2.conv1d.weight torch.Size([32, 32, 9])\n",
      "encoder.3.self_attn.wv.2.maxconvpool.1.conv1d.weight torch.Size([32, 512, 1])\n",
      "encoder.3.self_attn.wv.2.bn.weight torch.Size([128])\n",
      "encoder.3.self_attn.wv.2.bn.bias torch.Size([128])\n",
      "encoder.3.self_attn.wv.3.bottleneck.conv1d.weight torch.Size([32, 512, 1])\n",
      "encoder.3.self_attn.wv.3.convs.0.conv1d.weight torch.Size([32, 32, 39])\n",
      "encoder.3.self_attn.wv.3.convs.1.conv1d.weight torch.Size([32, 32, 19])\n",
      "encoder.3.self_attn.wv.3.convs.2.conv1d.weight torch.Size([32, 32, 9])\n",
      "encoder.3.self_attn.wv.3.maxconvpool.1.conv1d.weight torch.Size([32, 512, 1])\n",
      "encoder.3.self_attn.wv.3.bn.weight torch.Size([128])\n",
      "encoder.3.self_attn.wv.3.bn.bias torch.Size([128])\n",
      "encoder.3.self_attn.final_linear.conv1d.weight torch.Size([512, 512, 3])\n",
      "encoder.3.self_attn.final_linear.conv1d.bias torch.Size([512])\n",
      "encoder.3.norm.weight torch.Size([512])\n",
      "encoder.3.norm.bias torch.Size([512])\n",
      "encoder.3.shortcut.weight torch.Size([512])\n",
      "encoder.3.shortcut.bias torch.Size([512])\n",
      "output_layer.weight torch.Size([3, 512])\n",
      "output_layer.bias torch.Size([3])\n"
     ]
    }
   ],
   "source": [
    "for n, p in model.named_parameters():\n",
    "    print(n, p.size())"
   ]
  },
  {
   "cell_type": "code",
   "execution_count": 22,
   "metadata": {},
   "outputs": [
    {
     "name": "stdout",
     "output_type": "stream",
     "text": [
      "torch.Size([1, 5, 48])\n",
      "torch.Size([1, 3])\n"
     ]
    }
   ],
   "source": [
    "input_tensor = train_dataset[0]['input'].unsqueeze(0).to(CFG.device)\n",
    "print(input_tensor.size())\n",
    "with torch.no_grad():\n",
    "    out = model(input_tensor)\n",
    "print(out.size())"
   ]
  },
  {
   "cell_type": "code",
   "execution_count": 31,
   "metadata": {},
   "outputs": [],
   "source": [
    "from torchvision.models import resnet18\n",
    "resnet_model = resnet18(pretrained=True).eval()"
   ]
  },
  {
   "cell_type": "code",
   "execution_count": 32,
   "metadata": {},
   "outputs": [
    {
     "name": "stdout",
     "output_type": "stream",
     "text": [
      "conv1.weight torch.Size([64, 3, 7, 7])\n",
      "bn1.weight torch.Size([64])\n",
      "bn1.bias torch.Size([64])\n",
      "layer1.0.conv1.weight torch.Size([64, 64, 3, 3])\n",
      "layer1.0.bn1.weight torch.Size([64])\n",
      "layer1.0.bn1.bias torch.Size([64])\n",
      "layer1.0.conv2.weight torch.Size([64, 64, 3, 3])\n",
      "layer1.0.bn2.weight torch.Size([64])\n",
      "layer1.0.bn2.bias torch.Size([64])\n",
      "layer1.1.conv1.weight torch.Size([64, 64, 3, 3])\n",
      "layer1.1.bn1.weight torch.Size([64])\n",
      "layer1.1.bn1.bias torch.Size([64])\n",
      "layer1.1.conv2.weight torch.Size([64, 64, 3, 3])\n",
      "layer1.1.bn2.weight torch.Size([64])\n",
      "layer1.1.bn2.bias torch.Size([64])\n",
      "layer2.0.conv1.weight torch.Size([128, 64, 3, 3])\n",
      "layer2.0.bn1.weight torch.Size([128])\n",
      "layer2.0.bn1.bias torch.Size([128])\n",
      "layer2.0.conv2.weight torch.Size([128, 128, 3, 3])\n",
      "layer2.0.bn2.weight torch.Size([128])\n",
      "layer2.0.bn2.bias torch.Size([128])\n",
      "layer2.0.downsample.0.weight torch.Size([128, 64, 1, 1])\n",
      "layer2.0.downsample.1.weight torch.Size([128])\n",
      "layer2.0.downsample.1.bias torch.Size([128])\n",
      "layer2.1.conv1.weight torch.Size([128, 128, 3, 3])\n",
      "layer2.1.bn1.weight torch.Size([128])\n",
      "layer2.1.bn1.bias torch.Size([128])\n",
      "layer2.1.conv2.weight torch.Size([128, 128, 3, 3])\n",
      "layer2.1.bn2.weight torch.Size([128])\n",
      "layer2.1.bn2.bias torch.Size([128])\n",
      "layer3.0.conv1.weight torch.Size([256, 128, 3, 3])\n",
      "layer3.0.bn1.weight torch.Size([256])\n",
      "layer3.0.bn1.bias torch.Size([256])\n",
      "layer3.0.conv2.weight torch.Size([256, 256, 3, 3])\n",
      "layer3.0.bn2.weight torch.Size([256])\n",
      "layer3.0.bn2.bias torch.Size([256])\n",
      "layer3.0.downsample.0.weight torch.Size([256, 128, 1, 1])\n",
      "layer3.0.downsample.1.weight torch.Size([256])\n",
      "layer3.0.downsample.1.bias torch.Size([256])\n",
      "layer3.1.conv1.weight torch.Size([256, 256, 3, 3])\n",
      "layer3.1.bn1.weight torch.Size([256])\n",
      "layer3.1.bn1.bias torch.Size([256])\n",
      "layer3.1.conv2.weight torch.Size([256, 256, 3, 3])\n",
      "layer3.1.bn2.weight torch.Size([256])\n",
      "layer3.1.bn2.bias torch.Size([256])\n",
      "layer4.0.conv1.weight torch.Size([512, 256, 3, 3])\n",
      "layer4.0.bn1.weight torch.Size([512])\n",
      "layer4.0.bn1.bias torch.Size([512])\n",
      "layer4.0.conv2.weight torch.Size([512, 512, 3, 3])\n",
      "layer4.0.bn2.weight torch.Size([512])\n",
      "layer4.0.bn2.bias torch.Size([512])\n",
      "layer4.0.downsample.0.weight torch.Size([512, 256, 1, 1])\n",
      "layer4.0.downsample.1.weight torch.Size([512])\n",
      "layer4.0.downsample.1.bias torch.Size([512])\n",
      "layer4.1.conv1.weight torch.Size([512, 512, 3, 3])\n",
      "layer4.1.bn1.weight torch.Size([512])\n",
      "layer4.1.bn1.bias torch.Size([512])\n",
      "layer4.1.conv2.weight torch.Size([512, 512, 3, 3])\n",
      "layer4.1.bn2.weight torch.Size([512])\n",
      "layer4.1.bn2.bias torch.Size([512])\n",
      "fc.weight torch.Size([1000, 512])\n",
      "fc.bias torch.Size([1000])\n"
     ]
    }
   ],
   "source": [
    "for n, p in resnet_model.named_parameters():\n",
    "    print(n, p.size())"
   ]
  },
  {
   "cell_type": "code",
   "execution_count": 47,
   "metadata": {},
   "outputs": [],
   "source": [
    "submodule_dict = dict(model.named_modules())"
   ]
  },
  {
   "cell_type": "code",
   "execution_count": 118,
   "metadata": {},
   "outputs": [
    {
     "data": {
      "text/plain": [
       "<torch.utils.hooks.RemovableHandle at 0x7fb7a900d950>"
      ]
     },
     "execution_count": 118,
     "metadata": {},
     "output_type": "execute_result"
    }
   ],
   "source": [
    "feature_map = []     # 建立列表容器，用于盛放输出特征图\n",
    "\n",
    "def forward_hook(module, inp, outp):     # 定义hook\n",
    "    feature_map.append(outp)    # 把输出装入字典feature_map\n",
    "\n",
    "submodule_dict['encoder.3'].register_forward_hook(forward_hook)    # 对net.layer4这一层注册前向传播"
   ]
  },
  {
   "cell_type": "code",
   "execution_count": 151,
   "metadata": {},
   "outputs": [
    {
     "data": {
      "text/plain": [
       "0"
      ]
     },
     "execution_count": 151,
     "metadata": {},
     "output_type": "execute_result"
    }
   ],
   "source": [
    "train_label[1000]"
   ]
  },
  {
   "cell_type": "code",
   "execution_count": 152,
   "metadata": {},
   "outputs": [
    {
     "name": "stdout",
     "output_type": "stream",
     "text": [
      "torch.Size([1, 5, 48])\n"
     ]
    }
   ],
   "source": [
    "input_tensor = train_dataset[1000]['input'].unsqueeze(0).to(CFG.device)\n",
    "print(input_tensor.size())\n",
    "with torch.no_grad():\n",
    "    out = model(input_tensor)\n"
   ]
  },
  {
   "cell_type": "code",
   "execution_count": 153,
   "metadata": {},
   "outputs": [
    {
     "data": {
      "text/plain": [
       "2"
      ]
     },
     "execution_count": 153,
     "metadata": {},
     "output_type": "execute_result"
    }
   ],
   "source": [
    "cls = torch.argmax(out).item()    # 获取预测类别编码\n",
    "weights = model._modules.get('output_layer').weight.data[cls,:]    # 获取类别对应的权重\n",
    "cls"
   ]
  },
  {
   "cell_type": "code",
   "execution_count": 154,
   "metadata": {},
   "outputs": [],
   "source": [
    "cam = (weights.view(*weights.shape, 1) * feature_map[-1].squeeze(0)).sum(0)"
   ]
  },
  {
   "cell_type": "code",
   "execution_count": 155,
   "metadata": {},
   "outputs": [],
   "source": [
    "def _normalize(cams: torch.Tensor) -> torch.Tensor:\n",
    "    \"\"\"CAM normalization\"\"\"\n",
    "    cams.sub_(cams.min(-1).values.unsqueeze(-1))\n",
    "    cams.div_(cams.max(-1).values.unsqueeze(-1))\n",
    "\n",
    "    return cams"
   ]
  },
  {
   "cell_type": "code",
   "execution_count": 156,
   "metadata": {},
   "outputs": [],
   "source": [
    "import torch.nn.functional as F\n",
    "cam = _normalize(F.relu(cam, inplace=True)).cpu()"
   ]
  },
  {
   "cell_type": "code",
   "execution_count": 157,
   "metadata": {},
   "outputs": [
    {
     "data": {
      "text/plain": [
       "tensor([0.2237, 0.2936, 0.4886, 0.7308, 0.8698, 1.0000, 0.9020, 0.8356, 0.7292,\n",
       "        0.2068, 0.0000, 0.0000, 0.0000, 0.0000, 0.1051, 0.8495, 0.7358, 0.7450,\n",
       "        0.7773, 0.5643, 0.2474, 0.0596, 0.2529, 0.5394, 0.5452, 0.8111, 0.8342,\n",
       "        0.8991, 0.7621, 0.6251, 0.4595, 0.2754, 0.0528, 0.0299, 0.0000, 0.0000,\n",
       "        0.0000, 0.0000, 0.0280, 0.0000, 0.0000, 0.0000, 0.0719, 0.0318, 0.0000,\n",
       "        0.0000, 0.0000, 0.0942])"
      ]
     },
     "execution_count": 157,
     "metadata": {},
     "output_type": "execute_result"
    }
   ],
   "source": [
    "cam"
   ]
  },
  {
   "cell_type": "code",
   "execution_count": 158,
   "metadata": {},
   "outputs": [],
   "source": [
    "from data_process import plot_time"
   ]
  },
  {
   "cell_type": "code",
   "execution_count": 159,
   "metadata": {},
   "outputs": [
    {
     "data": {
      "image/png": "[encoded data removed]",
      "text/plain": [
       "<Figure size 1440x360 with 1 Axes>"
      ]
     },
     "metadata": {
      "needs_background": "light"
     },
     "output_type": "display_data"
    }
   ],
   "source": [
    "plot_time(cam)"
   ]
  },
  {
   "cell_type": "code",
   "execution_count": 160,
   "metadata": {},
   "outputs": [
    {
     "data": {
      "image/png": "[encoded data removed]",
      "text/plain": [
       "<Figure size 1440x360 with 1 Axes>"
      ]
     },
     "metadata": {
      "needs_background": "light"
     },
     "output_type": "display_data"
    }
   ],
   "source": [
    "plot_time(train_data[1000]['data_z'])"
   ]
  },
  {
   "cell_type": "code",
   "execution_count": null,
   "metadata": {},
   "outputs": [],
   "source": []
  }
 ],
 "metadata": {
  "interpreter": {
   "hash": "74e4db294560369147cac1e36bd7a6ec20ab1584edff0f70d657093dc3fbab11"
  },
  "kernelspec": {
   "display_name": "Python 3.7.13 ('torch111')",
   "language": "python",
   "name": "python3"
  },
  "language_info": {
   "codemirror_mode": {
    "name": "ipython",
    "version": 3
   },
   "file_extension": ".py",
   "mimetype": "text/x-python",
   "name": "python",
   "nbconvert_exporter": "python",
   "pygments_lexer": "ipython3",
   "version": "3.7.13"
  },
  "orig_nbformat": 4
 },
 "nbformat": 4,
 "nbformat_minor": 2
}
