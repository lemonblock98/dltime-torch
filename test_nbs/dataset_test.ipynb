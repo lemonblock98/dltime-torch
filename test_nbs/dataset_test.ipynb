{
 "cells": [
  {
   "cell_type": "code",
   "execution_count": 1,
   "metadata": {},
   "outputs": [],
   "source": [
    "import os\n",
    "import sys\n",
    "sys.path.append(os.path.abspath('..'))"
   ]
  },
  {
   "cell_type": "code",
   "execution_count": 2,
   "metadata": {},
   "outputs": [],
   "source": [
    "import torch\n",
    "import numpy as np\n",
    "from tqdm import tqdm\n",
    "from sktime.datasets import load_UCR_UEA_dataset\n",
    "from dltime.data.tsc_dataset_names import *\n",
    "from dltime.data.ts_datasets import Transformer_UCR_UEADataset\n",
    "from sklearn.preprocessing import StandardScaler, MinMaxScaler\n",
    "from torch.utils.data import Dataset, DataLoader"
   ]
  },
  {
   "cell_type": "code",
   "execution_count": 3,
   "metadata": {},
   "outputs": [
    {
     "data": {
      "text/plain": [
       "['Adiac',\n",
       " 'ArrowHead',\n",
       " 'BME',\n",
       " 'ChlorineConcentration',\n",
       " 'CricketX',\n",
       " 'CricketY',\n",
       " 'CricketZ',\n",
       " 'Crop',\n",
       " 'ECG200',\n",
       " 'ECG5000',\n",
       " 'Wafer']"
      ]
     },
     "execution_count": 3,
     "metadata": {},
     "output_type": "execute_result"
    }
   ],
   "source": [
    "univariate_equal_length_for_train"
   ]
  },
  {
   "cell_type": "code",
   "execution_count": null,
   "metadata": {},
   "outputs": [],
   "source": [
    "dataset = Transformer_UCR_UEADataset(\"Adiac\", extract_path=\"Multivarite_ts\")"
   ]
  }
 ],
 "metadata": {
  "interpreter": {
   "hash": "0211ca6a2fca1f26dea68d7c1350129b9ad325f664e54d0f5fdfb7ca4ac2bd60"
  },
  "kernelspec": {
   "display_name": "Python 3.7.11 ('torch17')",
   "language": "python",
   "name": "python3"
  },
  "language_info": {
   "codemirror_mode": {
    "name": "ipython",
    "version": 3
   },
   "file_extension": ".py",
   "mimetype": "text/x-python",
   "name": "python",
   "nbconvert_exporter": "python",
   "pygments_lexer": "ipython3",
   "version": "3.7.11"
  },
  "orig_nbformat": 4
 },
 "nbformat": 4,
 "nbformat_minor": 2
}
